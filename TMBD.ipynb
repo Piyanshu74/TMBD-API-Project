{
 "cells": [
  {
   "cell_type": "code",
   "execution_count": 1,
   "id": "e45f213e",
   "metadata": {},
   "outputs": [
    {
     "name": "stdout",
     "output_type": "stream",
     "text": [
      "534780\n"
     ]
    }
   ],
   "source": [
    "\"\"\"Find the 'id' of the movie \"Andhadhun\" using TMDb API.\"\"\"\n",
    "\n",
    "import requests\n",
    "# Write your code here\n",
    "import requests\n",
    "\n",
    "response=requests.get('https://api.themoviedb.org/3/search/movie?api_key=0e6b574d46ffcf87bae5f64e3589c2e4',params={'query':\"Andhadhun\"})\n",
    "data=response.json()\n",
    "print(data['results'][0]['id'])"
   ]
  },
  {
   "cell_type": "code",
   "execution_count": 2,
   "id": "23720a07",
   "metadata": {},
   "outputs": [
    {
     "name": "stdout",
     "output_type": "stream",
     "text": [
      "420\n"
     ]
    }
   ],
   "source": [
    "\"\"\"Fetch the company id company 'Marvel Studios' using TMDb. Print the id.\"\"\"\n",
    "\n",
    "import requests\n",
    "\n",
    "response=requests.get('https://api.themoviedb.org/3/search/company?api_key=0e6b574d46ffcf87bae5f64e3589c2e4',params={'query':\"Marvel Studios\"})\n",
    "data=response.json()\n",
    "print(data['results'][0]['id'])"
   ]
  },
  {
   "cell_type": "code",
   "execution_count": 3,
   "id": "f2c825ed",
   "metadata": {},
   "outputs": [
    {
     "name": "stdout",
     "output_type": "stream",
     "text": [
      "2125 7.99\n"
     ]
    }
   ],
   "source": [
    "\"\"\"Find the vote count and vote average of the movie \"3 Idiots\" using the TMDb API\n",
    "Output format: Vote Count , Vote Average\"\"\"\n",
    "\n",
    "import requests\n",
    "\n",
    "response=requests.get('https://api.themoviedb.org/3/search/movie?api_key=0e6b574d46ffcf87bae5f64e3589c2e4',params={'query':\"3 Idiots\"})\n",
    "data=response.json()\n",
    "\n",
    "response2=requests.get('https://api.themoviedb.org/3/movie/20453?api_key=0e6b574d46ffcf87bae5f64e3589c2e4')\n",
    "data=response2.json()\n",
    "print(data['vote_count'],data['vote_average'])"
   ]
  },
  {
   "cell_type": "code",
   "execution_count": 4,
   "id": "301c8dfa",
   "metadata": {},
   "outputs": [
    {
     "name": "stdout",
     "output_type": "stream",
     "text": [
      "Garden State\n",
      "La Haine\n",
      "The English Patient\n",
      "8½\n",
      "Mon Oncle\n"
     ]
    }
   ],
   "source": [
    "\"\"\"Fetch the names of top 5 similar movies to 'Inception' from the TMDb API.\"\"\"\n",
    "\n",
    "import requests\n",
    "\n",
    "response=requests.get('https://api.themoviedb.org/3/search/movie?api_key=0e6b574d46ffcf87bae5f64e3589c2e4',params={'query':\"Inception\"})\n",
    "data=response.json()\n",
    "\n",
    "response2=requests.get('https://api.themoviedb.org/3/movie/27205/similar?api_key=0e6b574d46ffcf87bae5f64e3589c2e4')\n",
    "data=response2.json()\n",
    "for i in data['results'][:5]:\n",
    "    print(i['title'])"
   ]
  },
  {
   "cell_type": "code",
   "execution_count": 5,
   "id": "f103c5d1",
   "metadata": {},
   "outputs": [
    {
     "name": "stdout",
     "output_type": "stream",
     "text": [
      "The Godfather - Drama, Crime, \n",
      "The Shawshank Redemption - Drama, Crime, \n",
      "The Godfather Part II - Drama, Crime, \n",
      "Schindler's List - Drama, History, War, \n",
      "12 Angry Men - Drama, \n",
      "The Dark Knight - Drama, Action, Crime, Thriller, \n",
      "The Green Mile - Fantasy, Drama, Crime, \n",
      "Pulp Fiction - Thriller, Crime, \n",
      "Forrest Gump - Comedy, Drama, Romance, \n",
      "The Lord of the Rings: The Return of the King - Adventure, Fantasy, Action, \n"
     ]
    }
   ],
   "source": [
    "\"\"\"Fetch the top rated english movies in the US region using the TMDb API. \n",
    "From the result, print the first 10 movies which have original language as english. Also print their genres.\"\"\"\n",
    "\n",
    "import requests\n",
    "\n",
    "response=requests.get('https://api.themoviedb.org/3/movie/top_rated?api_key=0e6b574d46ffcf87bae5f64e3589c2e4&language=en&page=1&region=US')\n",
    "data=response.json()\n",
    "r=requests.get('https://api.themoviedb.org/3/genre/movie/list?api_key=0e6b574d46ffcf87bae5f64e3589c2e4')\n",
    "d=r.json()\n",
    "mapping={}\n",
    "for i in d['genres']:\n",
    "    mapping[i['id']]=i['name']\n",
    "m=0\n",
    "for i in data['results']:\n",
    "    if(m==10):\n",
    "        break\n",
    "    if(i['original_language']==\"en\"):\n",
    "        m+=1\n",
    "        print(i['original_title'],end=\" - \")\n",
    "        for j in i['genre_ids']:\n",
    "            print(mapping[j],end=\", \")\n",
    "        print()"
   ]
  },
  {
   "cell_type": "code",
   "execution_count": 6,
   "id": "ce9520e5",
   "metadata": {},
   "outputs": [
    {
     "name": "stdout",
     "output_type": "stream",
     "text": [
      "169337\n",
      "Katherine LaNasa - New Orleans, Louisiana, USA\n"
     ]
    }
   ],
   "source": [
    "\"\"\"Find the name and birthplace of the present most popular person according to TMDb API.\"\"\"\n",
    "\n",
    "import requests\n",
    "## Write your code here\n",
    "\n",
    "response=requests.get('https://api.themoviedb.org/3/person/popular?api_key=0e6b574d46ffcf87bae5f64e3589c2e4')\n",
    "data=response.json()\n",
    "print(data['results'][0]['id'])\n",
    "print(data['results'][0]['name'],end=\" - \")\n",
    "r=requests.get('https://api.themoviedb.org/3/person/169337?api_key=0e6b574d46ffcf87bae5f64e3589c2e4')\n",
    "d=r.json()\n",
    "print(d['place_of_birth'])"
   ]
  },
  {
   "cell_type": "code",
   "execution_count": 7,
   "id": "45abd849",
   "metadata": {},
   "outputs": [
    {
     "name": "stdout",
     "output_type": "stream",
     "text": [
      "aliaabhatt Aliaa08\n"
     ]
    }
   ],
   "source": [
    "\"\"\"Fetch the Instagram and Twitter handle of Indian Actress \"Alia Bhatt\" from the TMDb API.\"\"\"\n",
    "\n",
    "import requests\n",
    "\n",
    "response=requests.get('https://api.themoviedb.org/3/search/person?api_key=0e6b574d46ffcf87bae5f64e3589c2e4',params={'query':\"Alia Bhatt\"})\n",
    "data=response.json()\n",
    "\n",
    "r=requests.get('https://api.themoviedb.org/3/person/1108120/external_ids?api_key=0e6b574d46ffcf87bae5f64e3589c2e4')\n",
    "d=r.json()\n",
    "print(d['instagram_id'],d['twitter_id'])"
   ]
  },
  {
   "cell_type": "code",
   "execution_count": 8,
   "id": "aba125c7",
   "metadata": {},
   "outputs": [
    {
     "name": "stdout",
     "output_type": "stream",
     "text": [
      "Lt. Pete 'Maverick' Mitchell\n",
      "Ethan Hunt\n",
      "Chief John Anderton\n",
      "Maj. William 'Bill' Cage\n"
     ]
    }
   ],
   "source": [
    "\"\"\"Fetch the names of the character played by Tom Cruise in the movies:\n",
    "Top Gun\n",
    "Mission: Impossible - Fallout\n",
    "Minority Report\n",
    "Edge of Tomorrow\"\"\"\n",
    "\n",
    "import requests\n",
    "\n",
    "response=requests.get('https://api.themoviedb.org/3/search/movie?api_key=0e6b574d46ffcf87bae5f64e3589c2e4',params={'query':\"Edge of Tomorrow\"})\n",
    "data=response.json()\n",
    "#print(data['results'][0]['id'])\n",
    "\n",
    "r=requests.get('https://api.themoviedb.org/3/movie/744/credits?api_key=0e6b574d46ffcf87bae5f64e3589c2e4')\n",
    "d=r.json()\n",
    "print(d['cast'][0]['character'])\n",
    "\n",
    "r=requests.get('https://api.themoviedb.org/3/movie/353081/credits?api_key=0e6b574d46ffcf87bae5f64e3589c2e4')\n",
    "d=r.json()\n",
    "print(d['cast'][0]['character'])\n",
    "\n",
    "r=requests.get('https://api.themoviedb.org/3/movie/180/credits?api_key=0e6b574d46ffcf87bae5f64e3589c2e4')\n",
    "d=r.json()\n",
    "print(d['cast'][0]['character'])\n",
    "\n",
    "r=requests.get('https://api.themoviedb.org/3/movie/137113/credits?api_key=0e6b574d46ffcf87bae5f64e3589c2e4')\n",
    "d=r.json()\n",
    "print(d['cast'][0]['character'])"
   ]
  },
  {
   "cell_type": "code",
   "execution_count": 9,
   "id": "d1efea35",
   "metadata": {},
   "outputs": [
    {
     "name": "stdout",
     "output_type": "stream",
     "text": [
      "Yes\n"
     ]
    }
   ],
   "source": [
    "\"\"\"Did James McAvoy play a role in the movie Deadpool 2. Print Yes or No.\"\"\"\n",
    "\n",
    "import requests\n",
    "## Write your code here\n",
    "response=requests.get('https://api.themoviedb.org/3/search/movie?api_key=0e6b574d46ffcf87bae5f64e3589c2e4',params={'query':\"Deadpool 2\"})\n",
    "data=response.json()\n",
    "r=requests.get('https://api.themoviedb.org/3/movie/383498/credits?api_key=0e6b574d46ffcf87bae5f64e3589c2e4')\n",
    "d=r.json()\n",
    "for i in d['cast']:\n",
    "    if(i['name']=='James McAvoy'):\n",
    "        print(\"Yes\")\n",
    "        break"
   ]
  },
  {
   "cell_type": "code",
   "execution_count": 10,
   "id": "cba8073d",
   "metadata": {},
   "outputs": [
    {
     "name": "stdout",
     "output_type": "stream",
     "text": [
      "No\n"
     ]
    }
   ],
   "source": [
    "\"\"\"Using the result obtained in previous question, find out if James McAvoy was credited for his role in movie Deadpool 2. \n",
    "Print Yes or No.\"\"\"\n",
    "\n",
    "import requests\n",
    "## Write your code here\n",
    "response=requests.get('https://api.themoviedb.org/3/search/movie?api_key=0e6b574d46ffcf87bae5f64e3589c2e4',params={'query':\"Deadpool 2\"})\n",
    "data=response.json()\n",
    "r=requests.get('https://api.themoviedb.org/3/movie/383498/credits?api_key=0e6b574d46ffcf87bae5f64e3589c2e4')\n",
    "d=r.json()\n",
    "for i in d['cast']:\n",
    "    if(i['name']=='James McAvoy'):\n",
    "        if('uncredited' in i['character']):\n",
    "            print(\"No\")\n",
    "        else:\n",
    "            print(\"Yes\")\n",
    "        break"
   ]
  },
  {
   "cell_type": "code",
   "execution_count": 11,
   "id": "f63d9e16",
   "metadata": {},
   "outputs": [
    {
     "name": "stdout",
     "output_type": "stream",
     "text": [
      "Six young people from New York City, on their own and struggling to survive in the real world, find the companionship, comfort and support they get from each other to be the perfect antidote to the pressures of life.\n",
      "Friends is a short-lived kids-oriented drama that aired in the spring of 1979. The series, which was produced by Aaron Spelling and aired on ABC, starred Charlie Aiken, Jill Whelan, and Jarrod Johnson as three Southern Californian 11-year-olds. Karen Morrow also appeared. Only five one-hour episodes were produced before the series was cancelled.\n",
      "\n"
     ]
    }
   ],
   "source": [
    "\"\"\"Fetch the overview of the TV Show \"FRIENDS\" using TMDb API.\"\"\"\n",
    "\n",
    "import requests\n",
    "\n",
    "response=requests.get('https://api.themoviedb.org/3/search/tv?api_key=0e6b574d46ffcf87bae5f64e3589c2e4',params={'query':\"FRIENDS\"})\n",
    "data=response.json()\n",
    "for i in data['results']:\n",
    "    if(i['name']==\"Friends\"):\n",
    "        print(i['overview'])"
   ]
  },
  {
   "cell_type": "code",
   "execution_count": 12,
   "id": "a61825ea",
   "metadata": {},
   "outputs": [
    {
     "name": "stdout",
     "output_type": "stream",
     "text": [
      "The Holographic Excitation  -  2012-10-25\n"
     ]
    }
   ],
   "source": [
    "\"\"\"Fetch the name and air date of S06E05 of the TV Show 'The Big Bang Theory' from TMDb API.\"\"\"\n",
    "\n",
    "import requests\n",
    "## Write your code here\n",
    "response=requests.get('https://api.themoviedb.org/3/tv/1418/season/6/episode/5?api_key=0e6b574d46ffcf87bae5f64e3589c2e4')\n",
    "data=response.json()\n",
    "print(data['name'],\" - \",data['air_date'])"
   ]
  },
  {
   "cell_type": "code",
   "execution_count": 13,
   "id": "5eafaa7f",
   "metadata": {},
   "outputs": [
    {
     "name": "stdout",
     "output_type": "stream",
     "text": [
      "Who do you trust?\n",
      "Destiny is a beast.\n",
      "Empty\n",
      "We're back again! Again!\n",
      "A boy fights... for \"the right death.\"\n"
     ]
    }
   ],
   "source": [
    "\"\"\"Fetch the trending TV Shows for the week from the TMDb API and print the taglines of the top 5 shows. \n",
    "If there is no tagline, print 'Empty' instead\"\"\"\n",
    "\n",
    "import requests\n",
    "## Write your code here\n",
    "response=requests.get('https://api.themoviedb.org/3/trending/tv/week?api_key=0e6b574d46ffcf87bae5f64e3589c2e4')\n",
    "data=response.json()\n",
    "id=[]\n",
    "for i in data['results'][:5]:\n",
    "    id.append(i['id'])\n",
    "r=requests.get('https://api.themoviedb.org/3/tv/114472?api_key=0e6b574d46ffcf87bae5f64e3589c2e4')\n",
    "d=r.json()\n",
    "print(d['tagline'])\n",
    "r=requests.get('https://api.themoviedb.org/3/tv/71912?api_key=0e6b574d46ffcf87bae5f64e3589c2e4')\n",
    "d=r.json()\n",
    "print(d['tagline'])\n",
    "r=requests.get('https://api.themoviedb.org/3/tv/113962?api_key=0e6b574d46ffcf87bae5f64e3589c2e4')\n",
    "d=r.json()\n",
    "if(d['tagline']==\"\"):\n",
    "    print(\"Empty\")\n",
    "else:\n",
    "    print(d['tagline'])\n",
    "r=requests.get('https://api.themoviedb.org/3/tv/615?api_key=0e6b574d46ffcf87bae5f64e3589c2e4')\n",
    "d=r.json()\n",
    "if(d['tagline']==\"\"):\n",
    "    print(\"Empty\")\n",
    "else:\n",
    "    print(d['tagline'])\n",
    "r=requests.get('https://api.themoviedb.org/3/tv/95479?api_key=0e6b574d46ffcf87bae5f64e3589c2e4')\n",
    "d=r.json()\n",
    "if(d['tagline']==\"\"):\n",
    "    print(\"Empty\")\n",
    "else:\n",
    "    print(d['tagline'])"
   ]
  },
  {
   "cell_type": "code",
   "execution_count": 15,
   "id": "add3f487",
   "metadata": {},
   "outputs": [
    {
     "name": "stdout",
     "output_type": "stream",
     "text": [
      "Love Island\n",
      "Special Ops: Lioness\n",
      "The Chi\n",
      "Ridiculousness\n",
      "Grantchester\n",
      "BUNK'D\n",
      "Big Brother\n",
      "When Calls the Heart\n",
      "The Real Housewives of Atlanta\n",
      "Countryfile\n",
      "BBC Proms\n",
      "Winning Time: The Rise of the Lakers Dynasty\n",
      "Domina\n",
      "Dark Winds\n",
      "Great Performances\n",
      "Love Island\n",
      "The Real Housewives of New York City\n",
      "WWE's The Bump\n",
      "90 Day Fiancé: Pillow Talk\n",
      "90 Day Fiancé: Before the 90 Days\n",
      "World on Fire\n",
      "Celebrity Family Feud\n",
      "Worst Cooks in America\n",
      "Paranormal Caught on Camera\n",
      "Running Wild with Bear Grylls: The Challenge\n",
      "YHC: 2nd Generation\n",
      "HouseBroken\n",
      "Moonshine\n",
      "Naked and Afraid: Castaways\n",
      "Forensic Files II\n",
      "Barbie Dreamhouse Challenge\n",
      "Carnival Eats\n",
      "Bay of Fires\n",
      "Builder Brothers' Dream Factory\n",
      "Hometown Stories\n",
      "Combate Global\n",
      "Never Say Never with Jeff Jenkins\n",
      "Air Disasters\n",
      "Wild Hokkaido!\n",
      "Restoration Australia\n",
      "Luann and Sonja: Welcome to Crappie Lake\n",
      "Match Me Abroad\n",
      "90 Day Fiancé UK\n",
      "Unsellable Houses\n",
      "Ever After: The Series\n",
      "The Mega-Brands That Built America\n",
      "A Cat's-Eye View of Japan\n",
      "¡Allá tú!\n",
      "Alone\n",
      "Hunted\n",
      "Killer Relationship with Faith Jenkins\n",
      "คลับฟรายเดย์เดอะซีรีส์ 15 ตอน รักเธอไม่มีวันตาย\n",
      "Survive the Raft\n"
     ]
    }
   ],
   "source": [
    "\"\"\"Print the names of all the TV shows to be aired today whose original language is english.\"\"\"\n",
    "\n",
    "import requests\n",
    "## Write your code here\n",
    "for j in range(1,11):\n",
    "    response=requests.get('https://api.themoviedb.org/3/tv/airing_today?api_key=0e6b574d46ffcf87bae5f64e3589c2e4',params={'language':'en','page':j})\n",
    "    data=response.json()\n",
    "    for i in data['results']:\n",
    "        if(i['original_language']==\"en\"):\n",
    "            print(i['name'])"
   ]
  },
  {
   "cell_type": "code",
   "execution_count": 16,
   "id": "26672cf8",
   "metadata": {},
   "outputs": [
    {
     "name": "stdout",
     "output_type": "stream",
     "text": [
      "10 5\n"
     ]
    }
   ],
   "source": [
    "\"\"\"Count the number of males and females in the cast of \"Money Heist\" using the TMDb API.\"\"\"\n",
    "\n",
    "import requests\n",
    "## Write your code here\n",
    "response=requests.get('https://api.themoviedb.org/3/tv/71446/credits?api_key=0e6b574d46ffcf87bae5f64e3589c2e4')\n",
    "data=response.json()\n",
    "male=0\n",
    "female=0\n",
    "for i in data['cast']:\n",
    "    if(i['gender']==2):\n",
    "        male+=1\n",
    "    else:\n",
    "        female+=1\n",
    "print(male,female)"
   ]
  }
 ],
 "metadata": {
  "kernelspec": {
   "display_name": "Python 3 (ipykernel)",
   "language": "python",
   "name": "python3"
  },
  "language_info": {
   "codemirror_mode": {
    "name": "ipython",
    "version": 3
   },
   "file_extension": ".py",
   "mimetype": "text/x-python",
   "name": "python",
   "nbconvert_exporter": "python",
   "pygments_lexer": "ipython3",
   "version": "3.10.9"
  }
 },
 "nbformat": 4,
 "nbformat_minor": 5
}
